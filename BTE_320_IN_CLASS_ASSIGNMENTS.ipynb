{
  "nbformat": 4,
  "nbformat_minor": 0,
  "metadata": {
    "colab": {
      "provenance": [],
      "authorship_tag": "ABX9TyO/iuGUSuaTm1cg1IqC4dk7",
      "include_colab_link": true
    },
    "kernelspec": {
      "name": "python3",
      "display_name": "Python 3"
    },
    "language_info": {
      "name": "python"
    }
  },
  "cells": [
    {
      "cell_type": "markdown",
      "metadata": {
        "id": "view-in-github",
        "colab_type": "text"
      },
      "source": [
        "<a href=\"https://colab.research.google.com/github/sabrinamaem/BTE320/blob/main/BTE_320_IN_CLASS_ASSIGNMENTS.ipynb\" target=\"_parent\"><img src=\"https://colab.research.google.com/assets/colab-badge.svg\" alt=\"Open In Colab\"/></a>"
      ]
    },
    {
      "cell_type": "code",
      "execution_count": null,
      "metadata": {
        "colab": {
          "base_uri": "https://localhost:8080/"
        },
        "id": "p3iqXoYbgiVI",
        "outputId": "23cbf156-aa28-4f4f-d70a-75718804dca5"
      },
      "outputs": [
        {
          "output_type": "stream",
          "name": "stdout",
          "text": [
            "Gross Profit as: Sales- Cost of Goods Sold\n",
            "\n",
            "Please enter the number of Sales ($): 12000\n",
            "Enter cost of goods sold (%): \n",
            "40\n",
            "Please enter tax rate (%): 30\n",
            "Cost of Goods sold: $4800.0\n",
            "Gross Proft: $7200.0\n",
            "Taxes: $2160.0\n",
            "Net Income: $ 5040.0\n"
          ]
        }
      ],
      "source": [
        "print(\"Gross Profit as: Sales- Cost of Goods Sold\\n\" )\n",
        "\n",
        "#inputs: sales and cogs_pct\n",
        "\n",
        "sales = input(\"Please enter the number of Sales ($): \")\n",
        "sales = float(sales)\n",
        "\n",
        "cogs_pct = input(\"Enter cost of goods sold (%): \")\n",
        "cogs_pct = float(cogs_pct)\n",
        "\n",
        "taxRate = input(\"Please enter tax rate (%): \")\n",
        "taxRate = float(taxRate)\n",
        "\n",
        "#Processes: calculate actaul cost of goods sold\n",
        "cogs = sales * cogs_pct / 100\n",
        "grosProfit = sales - cogs\n",
        "\n",
        "calcTax = grosProfit * (taxRate / 100)\n",
        "netIncome = grosProfit - calcTax\n",
        "\n",
        "#Outputs : display cogs and grossProfit\n",
        "print(f\"Cost of Goods sold: ${cogs}\")\n",
        "print(f\"Gross Proft: ${grosProfit}\")\n",
        "\n",
        "print(f\"Taxes: ${calcTax}\")\n",
        "print(f\"Net Income: $ {netIncome}\")\n",
        "\n",
        "\n",
        "\n",
        "\n",
        "\n"
      ]
    },
    {
      "cell_type": "code",
      "source": [
        "# Inputs\n",
        "demand = int(input(\"Enter demand (units/year): \")) # D\n",
        "reorder = float(input(\"Enter reorder cost ($/unit): \")) # S\n",
        "holding = float(input(\"Enter holding cost ($/unit/year): \")) # H\n",
        "\n",
        "# Processes\n",
        "eoq = (2 * demand * reorder / holding) ** 0.5\n",
        "\n",
        "# Output\n",
        "print(f\"EOQ: {eoq} units\")"
      ],
      "metadata": {
        "id": "lXFBBLUwxYCx",
        "outputId": "25214568-5fe9-4f3e-da6e-0ae51a5086d1",
        "colab": {
          "base_uri": "https://localhost:8080/"
        }
      },
      "execution_count": 2,
      "outputs": [
        {
          "output_type": "stream",
          "name": "stdout",
          "text": [
            "Enter demand (units/year): 5\n",
            "Enter reorder cost ($/unit): 5\n",
            "Enter holding cost ($/unit/year): 5\n",
            "EOQ: 3.1622776601683795 units\n"
          ]
        }
      ]
    }
  ]
}