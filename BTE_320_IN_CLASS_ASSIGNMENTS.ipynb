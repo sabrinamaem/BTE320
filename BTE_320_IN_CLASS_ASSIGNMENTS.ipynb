{
  "nbformat": 4,
  "nbformat_minor": 0,
  "metadata": {
    "colab": {
      "provenance": [],
      "authorship_tag": "ABX9TyMFa/IwD9indqPwCkdtby+j",
      "include_colab_link": true
    },
    "kernelspec": {
      "name": "python3",
      "display_name": "Python 3"
    },
    "language_info": {
      "name": "python"
    }
  },
  "cells": [
    {
      "cell_type": "markdown",
      "metadata": {
        "id": "view-in-github",
        "colab_type": "text"
      },
      "source": [
        "<a href=\"https://colab.research.google.com/github/sabrinamaem/BTE320/blob/main/BTE_320_IN_CLASS_ASSIGNMENTS.ipynb\" target=\"_parent\"><img src=\"https://colab.research.google.com/assets/colab-badge.svg\" alt=\"Open In Colab\"/></a>"
      ]
    },
    {
      "cell_type": "code",
      "execution_count": null,
      "metadata": {
        "colab": {
          "base_uri": "https://localhost:8080/"
        },
        "id": "p3iqXoYbgiVI",
        "outputId": "23cbf156-aa28-4f4f-d70a-75718804dca5"
      },
      "outputs": [
        {
          "output_type": "stream",
          "name": "stdout",
          "text": [
            "Gross Profit as: Sales- Cost of Goods Sold\n",
            "\n",
            "Please enter the number of Sales ($): 12000\n",
            "Enter cost of goods sold (%): \n",
            "40\n",
            "Please enter tax rate (%): 30\n",
            "Cost of Goods sold: $4800.0\n",
            "Gross Proft: $7200.0\n",
            "Taxes: $2160.0\n",
            "Net Income: $ 5040.0\n"
          ]
        }
      ],
      "source": [
        "print(\"Gross Profit as: Sales- Cost of Goods Sold\\n\" )\n",
        "\n",
        "#inputs: sales and cogs_pct\n",
        "\n",
        "sales = input(\"Please enter the number of Sales ($): \")\n",
        "sales = float(sales)\n",
        "\n",
        "cogs_pct = input(\"Enter cost of goods sold (%): \")\n",
        "cogs_pct = float(cogs_pct)\n",
        "\n",
        "taxRate = input(\"Please enter tax rate (%): \")\n",
        "taxRate = float(taxRate)\n",
        "\n",
        "#Processes: calculate actaul cost of goods sold\n",
        "cogs = sales * cogs_pct / 100\n",
        "grosProfit = sales - cogs\n",
        "\n",
        "calcTax = grosProfit * (taxRate / 100)\n",
        "netIncome = grosProfit - calcTax\n",
        "\n",
        "#Outputs : display cogs and grossProfit\n",
        "print(f\"Cost of Goods sold: ${cogs}\")\n",
        "print(f\"Gross Proft: ${grosProfit}\")\n",
        "\n",
        "print(f\"Taxes: ${calcTax}\")\n",
        "print(f\"Net Income: $ {netIncome}\")\n",
        "\n",
        "\n",
        "\n",
        "\n",
        "\n"
      ]
    },
    {
      "cell_type": "code",
      "source": [
        "# Inputs\n",
        "demand = int(input(\"Enter demand (units/year): \")) # D\n",
        "reorder = float(input(\"Enter reorder cost ($/unit): \")) # S\n",
        "holding = float(input(\"Enter holding cost ($/unit/year): \")) # H\n",
        "\n",
        "# Processes\n",
        "eoq = (2 * demand * reorder / holding) ** 0.5\n",
        "\n",
        "# Output\n",
        "print(f\"EOQ: {eoq} units\")"
      ],
      "metadata": {
        "id": "lXFBBLUwxYCx",
        "outputId": "25214568-5fe9-4f3e-da6e-0ae51a5086d1",
        "colab": {
          "base_uri": "https://localhost:8080/"
        }
      },
      "execution_count": null,
      "outputs": [
        {
          "output_type": "stream",
          "name": "stdout",
          "text": [
            "Enter demand (units/year): 5\n",
            "Enter reorder cost ($/unit): 5\n",
            "Enter holding cost ($/unit/year): 5\n",
            "EOQ: 3.1622776601683795 units\n"
          ]
        }
      ]
    },
    {
      "cell_type": "code",
      "source": [
        "n1 = float(input(\"Enter n1: \"))\n",
        "n2 = float(input(\"Enter n2: \"))\n",
        "op = input(\"Enter operator (+, -, *, /, //, **, %): \")\n",
        "\n",
        "\n",
        "if op == \"+\":\n",
        "  res = n1 + n2\n",
        "elif op == \"-\" :\n",
        "  res = n1 -n2\n",
        "elif op == \"*\" :\n",
        "  res = n1*n2\n",
        "elif op == \"/\":\n",
        "  res = n1/n2\n",
        "elif op == \"//\":\n",
        "  res = n1//n2\n",
        "elif op == \"**\":\n",
        "  res = n1**n2\n",
        "elif op == \"%\":\n",
        "  res = n1%n2\n",
        "else:\n",
        "  res = None\n",
        "  print (\"Invalid operator\")\n",
        "\n",
        "print(f\"result: {res}\")\n",
        "\n",
        "\n"
      ],
      "metadata": {
        "colab": {
          "base_uri": "https://localhost:8080/"
        },
        "id": "M6VXdPOQPCAm",
        "outputId": "87e5f080-7da4-4eae-b9ae-4e4fae80a93d"
      },
      "execution_count": 1,
      "outputs": [
        {
          "output_type": "stream",
          "name": "stdout",
          "text": [
            "Enter n1: 5\n",
            "Enter n2: 2\n",
            "Enter operator (+, -, *, /, //, **, %): *\n",
            "result: 10.0\n"
          ]
        }
      ]
    }
  ]
}