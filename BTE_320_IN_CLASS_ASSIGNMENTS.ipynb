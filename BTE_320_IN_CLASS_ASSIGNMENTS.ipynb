{
  "nbformat": 4,
  "nbformat_minor": 0,
  "metadata": {
    "colab": {
      "provenance": [],
      "authorship_tag": "ABX9TyOyc7jINFkM8is3bftBro54",
      "include_colab_link": true
    },
    "kernelspec": {
      "name": "python3",
      "display_name": "Python 3"
    },
    "language_info": {
      "name": "python"
    }
  },
  "cells": [
    {
      "cell_type": "markdown",
      "metadata": {
        "id": "view-in-github",
        "colab_type": "text"
      },
      "source": [
        "<a href=\"https://colab.research.google.com/github/sabrinamaem/BTE320/blob/main/BTE_320_IN_CLASS_ASSIGNMENTS.ipynb\" target=\"_parent\"><img src=\"https://colab.research.google.com/assets/colab-badge.svg\" alt=\"Open In Colab\"/></a>"
      ]
    },
    {
      "cell_type": "code",
      "execution_count": 9,
      "metadata": {
        "colab": {
          "base_uri": "https://localhost:8080/"
        },
        "id": "p3iqXoYbgiVI",
        "outputId": "23cbf156-aa28-4f4f-d70a-75718804dca5"
      },
      "outputs": [
        {
          "output_type": "stream",
          "name": "stdout",
          "text": [
            "Gross Profit as: Sales- Cost of Goods Sold\n",
            "\n",
            "Please enter the number of Sales ($): 12000\n",
            "Enter cost of goods sold (%): \n",
            "40\n",
            "Please enter tax rate (%): 30\n",
            "Cost of Goods sold: $4800.0\n",
            "Gross Proft: $7200.0\n",
            "Taxes: $2160.0\n",
            "Net Income: $ 5040.0\n"
          ]
        }
      ],
      "source": [
        "print(\"Gross Profit as: Sales- Cost of Goods Sold\\n\" )\n",
        "\n",
        "#inputs: sales and cogs_pct\n",
        "\n",
        "sales = input(\"Please enter the number of Sales ($): \")\n",
        "sales = float(sales)\n",
        "\n",
        "cogs_pct = input(\"Enter cost of goods sold (%): \")\n",
        "cogs_pct = float(cogs_pct)\n",
        "\n",
        "taxRate = input(\"Please enter tax rate (%): \")\n",
        "taxRate = float(taxRate)\n",
        "\n",
        "#Processes: calculate actaul cost of goods sold\n",
        "cogs = sales * cogs_pct / 100\n",
        "grosProfit = sales - cogs\n",
        "\n",
        "calcTax = grosProfit * (taxRate / 100)\n",
        "netIncome = grosProfit - calcTax\n",
        "\n",
        "#Outputs : display cogs and grossProfit\n",
        "print(f\"Cost of Goods sold: ${cogs}\")\n",
        "print(f\"Gross Proft: ${grosProfit}\")\n",
        "\n",
        "print(f\"Taxes: ${calcTax}\")\n",
        "print(f\"Net Income: $ {netIncome}\")\n",
        "\n",
        "\n",
        "\n",
        "\n",
        "\n"
      ]
    }
  ]
}