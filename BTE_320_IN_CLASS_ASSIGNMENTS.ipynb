{
  "nbformat": 4,
  "nbformat_minor": 0,
  "metadata": {
    "colab": {
      "provenance": [],
      "authorship_tag": "ABX9TyO7mXzXfUXJSYRzfbHmzMWp",
      "include_colab_link": true
    },
    "kernelspec": {
      "name": "python3",
      "display_name": "Python 3"
    },
    "language_info": {
      "name": "python"
    }
  },
  "cells": [
    {
      "cell_type": "markdown",
      "metadata": {
        "id": "view-in-github",
        "colab_type": "text"
      },
      "source": [
        "<a href=\"https://colab.research.google.com/github/sabrinamaem/BTE320/blob/main/BTE_320_IN_CLASS_ASSIGNMENTS.ipynb\" target=\"_parent\"><img src=\"https://colab.research.google.com/assets/colab-badge.svg\" alt=\"Open In Colab\"/></a>"
      ]
    },
    {
      "cell_type": "code",
      "execution_count": null,
      "metadata": {
        "colab": {
          "base_uri": "https://localhost:8080/"
        },
        "id": "p3iqXoYbgiVI",
        "outputId": "23cbf156-aa28-4f4f-d70a-75718804dca5"
      },
      "outputs": [
        {
          "output_type": "stream",
          "name": "stdout",
          "text": [
            "Gross Profit as: Sales- Cost of Goods Sold\n",
            "\n",
            "Please enter the number of Sales ($): 12000\n",
            "Enter cost of goods sold (%): \n",
            "40\n",
            "Please enter tax rate (%): 30\n",
            "Cost of Goods sold: $4800.0\n",
            "Gross Proft: $7200.0\n",
            "Taxes: $2160.0\n",
            "Net Income: $ 5040.0\n"
          ]
        }
      ],
      "source": [
        "print(\"Gross Profit as: Sales- Cost of Goods Sold\\n\" )\n",
        "\n",
        "#inputs: sales and cogs_pct\n",
        "\n",
        "sales = input(\"Please enter the number of Sales ($): \")\n",
        "sales = float(sales)\n",
        "\n",
        "cogs_pct = input(\"Enter cost of goods sold (%): \")\n",
        "cogs_pct = float(cogs_pct)\n",
        "\n",
        "taxRate = input(\"Please enter tax rate (%): \")\n",
        "taxRate = float(taxRate)\n",
        "\n",
        "#Processes: calculate actaul cost of goods sold\n",
        "cogs = sales * cogs_pct / 100\n",
        "grosProfit = sales - cogs\n",
        "\n",
        "calcTax = grosProfit * (taxRate / 100)\n",
        "netIncome = grosProfit - calcTax\n",
        "\n",
        "#Outputs : display cogs and grossProfit\n",
        "print(f\"Cost of Goods sold: ${cogs}\")\n",
        "print(f\"Gross Proft: ${grosProfit}\")\n",
        "\n",
        "print(f\"Taxes: ${calcTax}\")\n",
        "print(f\"Net Income: $ {netIncome}\")\n",
        "\n",
        "\n",
        "\n",
        "\n",
        "\n"
      ]
    },
    {
      "cell_type": "code",
      "source": [
        "# Inputs\n",
        "demand = int(input(\"Enter demand (units/year): \")) # D\n",
        "reorder = float(input(\"Enter reorder cost ($/unit): \")) # S\n",
        "holding = float(input(\"Enter holding cost ($/unit/year): \")) # H\n",
        "\n",
        "# Processes\n",
        "eoq = (2 * demand * reorder / holding) ** 0.5\n",
        "\n",
        "# Output\n",
        "print(f\"EOQ: {eoq} units\")"
      ],
      "metadata": {
        "id": "lXFBBLUwxYCx",
        "outputId": "25214568-5fe9-4f3e-da6e-0ae51a5086d1",
        "colab": {
          "base_uri": "https://localhost:8080/"
        }
      },
      "execution_count": null,
      "outputs": [
        {
          "output_type": "stream",
          "name": "stdout",
          "text": [
            "Enter demand (units/year): 5\n",
            "Enter reorder cost ($/unit): 5\n",
            "Enter holding cost ($/unit/year): 5\n",
            "EOQ: 3.1622776601683795 units\n"
          ]
        }
      ]
    },
    {
      "cell_type": "code",
      "source": [
        "n1 = float(input(\"Enter n1: \"))\n",
        "n2 = float(input(\"Enter n2: \"))\n",
        "op = input(\"Enter operator (+, -, *, /, //, **, %): \")\n",
        "\n",
        "\n",
        "if op == \"+\":\n",
        "  res = n1 + n2\n",
        "elif op == \"-\" :\n",
        "  res = n1 -n2\n",
        "elif op == \"*\" :\n",
        "  res = n1*n2\n",
        "elif op == \"/\":\n",
        "  res = n1/n2\n",
        "elif op == \"//\":\n",
        "  res = n1//n2\n",
        "elif op == \"**\":\n",
        "  res = n1**n2\n",
        "elif op == \"%\":\n",
        "  res = n1%n2\n",
        "else:\n",
        "  res = None\n",
        "  print (\"Invalid operator\")\n",
        "\n",
        "print(f\"result: {res}\")\n",
        "\n",
        "\n"
      ],
      "metadata": {
        "colab": {
          "base_uri": "https://localhost:8080/"
        },
        "id": "M6VXdPOQPCAm",
        "outputId": "87e5f080-7da4-4eae-b9ae-4e4fae80a93d"
      },
      "execution_count": 1,
      "outputs": [
        {
          "output_type": "stream",
          "name": "stdout",
          "text": [
            "Enter n1: 5\n",
            "Enter n2: 2\n",
            "Enter operator (+, -, *, /, //, **, %): *\n",
            "result: 10.0\n"
          ]
        }
      ]
    },
    {
      "cell_type": "code",
      "source": [
        "print (\"Hours   Fee\")\n",
        "print (\"-----------\")\n",
        "for hour in range(1, 9,1 ):\n",
        "  fee = 5 + 2.5 * hour\n",
        "  if fee < 10:\n",
        "    fee = 10.0\n",
        "  elif fee > 20:\n",
        "    fee = 20.0\n",
        "  print(f\"{hour}\\t{fee}\")\n",
        "\n"
      ],
      "metadata": {
        "colab": {
          "base_uri": "https://localhost:8080/"
        },
        "id": "7JLybziYgR1-",
        "outputId": "8f09bd33-90c5-4354-d3a2-d294315bac2d"
      },
      "execution_count": 6,
      "outputs": [
        {
          "output_type": "stream",
          "name": "stdout",
          "text": [
            "Hours   Fee\n",
            "-----------\n",
            "1\t10.0\n",
            "2\t10.0\n",
            "3\t12.5\n",
            "4\t15.0\n",
            "5\t17.5\n",
            "6\t20.0\n",
            "7\t20.0\n",
            "8\t20.0\n"
          ]
        }
      ]
    },
    {
      "cell_type": "code",
      "source": [
        "#Movie Theater (for/while loop)\n",
        "for ad in range(0,201,25):\n",
        "  revenue = 20 * 10 + 10 * 2 * ad ** 0.5\n",
        "  expenses = 200 + ad\n",
        "  profit = revenue - expenses\n",
        "  print(ad, round(profit))"
      ],
      "metadata": {
        "colab": {
          "base_uri": "https://localhost:8080/"
        },
        "id": "Rkxbwlg8O22T",
        "outputId": "0ff4c38f-b401-4945-97cc-c1db2b546ce2"
      },
      "execution_count": 2,
      "outputs": [
        {
          "output_type": "stream",
          "name": "stdout",
          "text": [
            "0 0\n",
            "25 75\n",
            "50 91\n",
            "75 98\n",
            "100 100\n",
            "125 99\n",
            "150 95\n",
            "175 90\n",
            "200 83\n"
          ]
        }
      ]
    },
    {
      "cell_type": "code",
      "source": [
        "L = []\n",
        "num = float(input(\"Give a number: \"))\n",
        "\n",
        "while num != 0:\n",
        "  num = float(input(\"Give another number: \"))\n",
        "\n",
        "L.sort(reverse=True)\n",
        "print(L)\n"
      ],
      "metadata": {
        "colab": {
          "base_uri": "https://localhost:8080/"
        },
        "id": "31hertmwu4T7",
        "outputId": "4858a925-4fd7-4ab4-f810-a801d5493de8"
      },
      "execution_count": 2,
      "outputs": [
        {
          "output_type": "stream",
          "name": "stdout",
          "text": [
            "Give a number: 9\n",
            "Give another number: 0\n",
            "[]\n"
          ]
        }
      ]
    },
    {
      "cell_type": "code",
      "source": [
        "# Rock, Paper, Scissors Game\n",
        "import random\n",
        "\n",
        "while True:\n",
        "    play = input(\"Do you want to play a game (yes/no)? \").lower()\n",
        "    if play != 'yes':\n",
        "        print(\"Goodbye!\")\n",
        "        break\n",
        "\n",
        "    user_choice = input(\"Choose between rock, paper, or scissors: \").lower()\n",
        "    computer = random.choice(['rock', 'paper', 'scissors'])\n",
        "\n",
        "    print(f\"You chose: {user_choice}\")\n",
        "    print(f\"Computer chose: {computer}\")\n",
        "\n",
        "    if user_choice == computer:\n",
        "        print(\"It's a tie!\")\n",
        "    elif (user_choice == 'rock' and computer == 'scissors') or \\\n",
        "         (user_choice == 'paper' and computer == 'rock') or \\\n",
        "         (user_choice == 'scissors' and computer == 'paper'):\n",
        "        print(\"You win!\")\n",
        "    else:\n",
        "        print(\"You lose!\")\n"
      ],
      "metadata": {
        "colab": {
          "base_uri": "https://localhost:8080/"
        },
        "id": "GgB9S3N9oyax",
        "outputId": "b3b58325-7907-4d42-f150-c3fc26544d52"
      },
      "execution_count": 5,
      "outputs": [
        {
          "output_type": "stream",
          "name": "stdout",
          "text": [
            "Do you want to play a game (yes/no)? yes\n",
            "Choose between rock, paper, or scissors: rock\n",
            "You chose: rock\n",
            "Computer chose: paper\n",
            "You lose!\n",
            "Do you want to play a game (yes/no)? no\n",
            "Goodbye!\n"
          ]
        }
      ]
    }
  ]
}